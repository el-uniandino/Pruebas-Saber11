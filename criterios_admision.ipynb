{
 "cells": [
  {
   "cell_type": "code",
   "execution_count": 1,
   "metadata": {},
   "outputs": [],
   "source": [
    "import pandas as pd\n",
    "import numpy as np\n",
    "import seaborn as sns\n",
    "import matplotlib.pyplot as plt\n",
    "import matplotlib.gridspec as gridspec\n",
    "#do not show warnings\n",
    "import warnings\n",
    "warnings.filterwarnings(\"ignore\")"
   ]
  },
  {
   "cell_type": "code",
   "execution_count": 2,
   "metadata": {},
   "outputs": [],
   "source": [
    "#Cargar todos los datos\n",
    "saber11_20171 = pd.read_csv(r'C:\\Users\\Usuario\\Downloads\\Saber_11__2017-1.csv')\n",
    "saber11_20172 = pd.read_csv(r'C:\\Users\\Usuario\\Downloads\\Saber_11__2017-2.csv')\n",
    "saber11_20181 = pd.read_csv(r'C:\\Users\\Usuario\\Downloads\\Saber_11__2018-1.csv')\n",
    "saber11_20182 = pd.read_csv(r'C:\\Users\\Usuario\\Downloads\\Saber_11__2018-2.csv')\n",
    "saber11_20191 = pd.read_csv(r'C:\\Users\\Usuario\\Downloads\\Saber_11__2019-1.csv')\n",
    "saber11_20192 = pd.read_csv(r'C:\\Users\\Usuario\\Downloads\\Saber_11__2019-2.csv')"
   ]
  },
  {
   "cell_type": "code",
   "execution_count": null,
   "metadata": {},
   "outputs": [],
   "source": [
    "#Lista de DB\n",
    "datos = [saber11_20171, \n",
    "         saber11_20172, \n",
    "         saber11_20181, \n",
    "         saber11_20182, \n",
    "         saber11_20191, \n",
    "         saber11_20192]"
   ]
  },
  {
   "cell_type": "code",
   "execution_count": null,
   "metadata": {},
   "outputs": [],
   "source": [
    "#Columnas a minúscula\n",
    "for peri in datos:\n",
    "    peri.columns = [i.lower() for i in peri.columns]"
   ]
  },
  {
   "cell_type": "code",
   "execution_count": null,
   "metadata": {},
   "outputs": [],
   "source": [
    "variables_cole = [i for i in saber11_20171.columns if 'cole' in i]\n",
    "variables_estu = [i for i in saber11_20171.columns if 'estu' in i]\n",
    "variables_fami = [i for i in saber11_20171.columns if 'fami' in i]\n",
    "\n",
    "key_cole = ['cole_cod_dane_establecimiento', \n",
    "            'cole_cod_dane_sede',\n",
    "            'cole_mcpio_ubicacion',\n",
    "            'cole_depto_ubicacion',\n",
    "            'cole_naturaleza',\n",
    "            'cole_calendario']\n",
    "\n",
    "key_estu = key_cole + ['fami_estratovivienda','punt_global','estu_horassemanatrabaja','periodo','estu_consecutivo']"
   ]
  },
  {
   "cell_type": "code",
   "execution_count": null,
   "metadata": {},
   "outputs": [],
   "source": [
    "#Concat de todos los periodos: cada fila es un estudiante\n",
    "estudiantes_2017_2019 = pd.concat([saber11_20171[key_estu], \n",
    "                                   saber11_20172[key_estu], \n",
    "                                   saber11_20181[key_estu], \n",
    "                                   saber11_20182[key_estu], \n",
    "                                   saber11_20191[key_estu], \n",
    "                                   saber11_20192[key_estu]])"
   ]
  },
  {
   "cell_type": "code",
   "execution_count": null,
   "metadata": {},
   "outputs": [],
   "source": [
    "#Null check\n",
    "estudiantes_2017_2019.isna().sum()"
   ]
  },
  {
   "cell_type": "code",
   "execution_count": null,
   "metadata": {},
   "outputs": [],
   "source": [
    "#Fill nulls\n",
    "estudiantes_2017_2019['fami_estratovivienda'].fillna('A-Sin info',inplace=True)\n",
    "estudiantes_2017_2019['estu_horassemanatrabaja'].fillna('A-Sin info',inplace=True)"
   ]
  },
  {
   "cell_type": "code",
   "execution_count": null,
   "metadata": {},
   "outputs": [],
   "source": [
    "#Duplicates check\n",
    "estudiantes_2017_2019[['estu_consecutivo']].drop_duplicates().shape[0] == estudiantes_2017_2019.shape[0]\n"
   ]
  },
  {
   "cell_type": "code",
   "execution_count": null,
   "metadata": {},
   "outputs": [],
   "source": [
    "#Método 1: Promedio sobre todos los periodos\n",
    "#Cálculo del promedio de todos lo periodos por colegio y su sigma\n",
    "#Promedio\n",
    "cole_acumulado = pd.pivot_table(data=estudiantes_2017_2019,\n",
    "                                index=key_cole,\n",
    "                                aggfunc={'punt_global':'mean','estu_consecutivo':'count'}).reset_index()\n",
    "cole_acumulado.rename(columns={\"punt_global\": \"prom_punt_global\"},inplace=True)\n",
    "\n",
    "#Desviación estándar\n",
    "cole_acumulado1 = pd.pivot_table(data=estudiantes_2017_2019,\n",
    "                                 index=key_cole,\n",
    "                                 aggfunc={'punt_global':np.std}).reset_index() \n",
    "cole_acumulado1.rename(columns={\"punt_global\": \"stdve_punt_global\"},inplace=True)\n",
    "\n",
    "#Resultados\n",
    "cole_acumulado_final = cole_acumulado.merge(cole_acumulado1, left_on=key_cole, right_on=key_cole)\n",
    "\n",
    "#Criterio de Andes = Promedio - 1.25(Desviaciones estándar)\n",
    "cole_acumulado_final['criterio_andes'] = cole_acumulado_final['prom_punt_global'] - 1.25*cole_acumulado_final['stdve_punt_global']\n",
    "\n",
    "#True: Criterio Andes >= 310 , False: Criterio Andes < 310\n",
    "cole_acumulado_final['entrada_directa'] = [False]*cole_acumulado_final.shape[0]\n",
    "cole_acumulado_final['entrada_directa'][cole_acumulado_final.criterio_andes >= 310] = True\n"
   ]
  },
  {
   "cell_type": "code",
   "execution_count": null,
   "metadata": {},
   "outputs": [],
   "source": [
    "cole_acumulado_final"
   ]
  },
  {
   "cell_type": "code",
   "execution_count": null,
   "metadata": {},
   "outputs": [],
   "source": []
  },
  {
   "cell_type": "code",
   "execution_count": null,
   "metadata": {},
   "outputs": [],
   "source": []
  },
  {
   "cell_type": "code",
   "execution_count": null,
   "metadata": {},
   "outputs": [],
   "source": [
    "estudiantes_2017_2019.dropna(inplace=True)\n",
    "data = estudiantes_2017_2019.sort_values(by=\"punt_global\")"
   ]
  },
  {
   "cell_type": "code",
   "execution_count": null,
   "metadata": {},
   "outputs": [],
   "source": [
    "data['fami_estratovivienda'][data['fami_estratovivienda']=='-'] = ['A-Sin info']*data.shape[0]"
   ]
  },
  {
   "cell_type": "code",
   "execution_count": null,
   "metadata": {
    "code_folding": [
     0
    ]
   },
   "outputs": [],
   "source": [
    "#Saber11_vs_Estrato\n",
    "fig = plt.figure(figsize=(10,11))\n",
    "gs = fig.add_gridspec(4, 4)\n",
    "ax1 = plt.subplot(gs[0:3, :])\n",
    "ax3 = plt.subplot(gs[3, :])\n",
    "ax2 = ax1.twinx()\n",
    "sns.boxplot(x=\"fami_estratovivienda\", \n",
    "            y=\"punt_global\", \n",
    "            data=data,\n",
    "            color='lightblue',\n",
    "            ax=ax1)\n",
    "ax1.set_title('Saber 11 vs. Estrato',y=1,fontsize=15)\n",
    "ax1.set_xlabel('',  fontsize=14)\n",
    "ax1.set_ylabel('Promedio del puntaje global en el Saber 11', fontsize=14)\n",
    "ax1.set_ylim(-10,500)\n",
    "ax1.tick_params(axis='both', which='major', labelsize=13)\n",
    "ax2.plot([310]*8,color='r',ls='--', linewidth=2, label='Corte Los Andes (310)')\n",
    "ax2.set_ylim(-10,500)\n",
    "ax2.legend(loc=\"best\",fontsize=15)\n",
    "ax2.tick_params(axis='both', which='major', labelsize=13)\n",
    "ax3.bar(x=distribucion['fami_estratovivienda'], height=distribucion['estrato']/sum(distribucion['estrato']),color='mistyrose')\n",
    "ax3.set_xlabel('Estrato de la familia del estudiante',  fontsize=14,y=15)\n",
    "ax3.set_ylabel('%Población',  fontsize=11)\n",
    "fig.tight_layout()\n",
    "\n",
    "\n",
    "plt.savefig(r'C:\\Users\\Usuario\\Pictures\\Saber11\\saber11_estrato.png')\n",
    "plt.close()"
   ]
  },
  {
   "cell_type": "code",
   "execution_count": null,
   "metadata": {
    "code_folding": [
     0
    ]
   },
   "outputs": [],
   "source": [
    "#Saber11_vs_Estrato\n",
    "fig = plt.figure(figsize=(10,11))\n",
    "gs = fig.add_gridspec(4, 4)\n",
    "ax1 = plt.subplot(gs[0:3, :])\n",
    "ax3 = plt.subplot(gs[3, :])\n",
    "ax2 = ax1.twinx()\n",
    "sns.boxplot(x=\"cole_depto_ubicacion\", \n",
    "            y=\"punt_global\", \n",
    "            data=data,\n",
    "            color='lightblue',\n",
    "            ax=ax1)\n",
    "ax1.set_title('Saber 11 vs. Estrato',y=1,fontsize=15)\n",
    "ax1.set_xlabel('',  fontsize=14)\n",
    "ax1.set_ylabel('Promedio del puntaje global en el Saber 11', fontsize=14)\n",
    "ax1.set_ylim(-10,500)\n",
    "ax1.tick_params(axis='both', which='major', labelsize=13)\n",
    "ax2.plot([310]*distribucion_depto.shape[0],color='r',ls='--', linewidth=2, label='Corte Los Andes (310)')\n",
    "ax2.set_ylim(-10,500)\n",
    "ax2.legend(loc=\"best\",fontsize=15)\n",
    "ax2.tick_params(axis='both', which='major', labelsize=13)\n",
    "ax1.tick_params(axis='x', which='major', labelsize=9,rotation=90)\n",
    "ax3.bar(x=distribucion_depto['cole_depto_ubicacion'], height=distribucion_depto['depto']/sum(distribucion_depto['depto']),color='mistyrose')\n",
    "ax3.set_xlabel('Estrato de la familia del estudiante',  fontsize=14,y=15)\n",
    "ax3.tick_params(axis='x', which='major', labelsize=7,rotation=90)\n",
    "ax3.set_ylabel('%Población',  fontsize=11)\n",
    "fig.tight_layout()\n",
    "\n",
    "\n",
    "#plt.savefig(r'C:\\Users\\Usuario\\Pictures\\Saber11\\saber11_estrato.png')\n",
    "#plt.close()"
   ]
  },
  {
   "cell_type": "code",
   "execution_count": null,
   "metadata": {},
   "outputs": [],
   "source": [
    "fig3 = plt.figure(constrained_layout=True)\n",
    "gs = fig3.add_gridspec(3, 3)\n",
    "f3_ax1 = fig3.add_subplot(gs[0:2, :])\n",
    "f3_ax1.set_title('gs[0, :]')\n",
    "#f3_ax2 = fig3.add_subplot(gs[1, :-1])\n",
    "#f3_ax2.set_title('gs[1, :-1]')\n",
    "#f3_ax3 = fig3.add_subplot(gs[1:, -1])\n",
    "#f3_ax3.set_title('gs[1:, -1]')\n",
    "#f3_ax4 = fig3.add_subplot(gs[-1, 0])\n",
    "#f3_ax4.set_title('gs[-1, 0]')\n",
    "f3_ax5 = fig3.add_subplot(gs[2, :])\n",
    "f3_ax5.set_title('gs[-0, :]')"
   ]
  },
  {
   "cell_type": "code",
   "execution_count": null,
   "metadata": {},
   "outputs": [],
   "source": [
    "#sns.countplot(data['fami_estratovivienda'])\n",
    "data['estrato'] = data['fami_estratovivienda']\n",
    "distribucion = pd.pivot_table(data=data,index=['fami_estratovivienda'],aggfunc={'estrato':'count'}).reset_index()"
   ]
  },
  {
   "cell_type": "code",
   "execution_count": null,
   "metadata": {},
   "outputs": [],
   "source": [
    "#sns.countplot(data['fami_estratovivienda'])\n",
    "data['depto'] = data['cole_depto_ubicacion']\n",
    "distribucion_depto = pd.pivot_table(data=data,index=['cole_depto_ubicacion'],aggfunc={'depto':'count'}).reset_index()"
   ]
  },
  {
   "cell_type": "code",
   "execution_count": null,
   "metadata": {},
   "outputs": [],
   "source": [
    "distribucion_depto"
   ]
  },
  {
   "cell_type": "code",
   "execution_count": null,
   "metadata": {},
   "outputs": [],
   "source": [
    "plt.bar(x=distribucion['fami_estratovivienda'], height=distribucion['estrato']/sum(distribucion['estrato']))"
   ]
  },
  {
   "cell_type": "code",
   "execution_count": null,
   "metadata": {},
   "outputs": [],
   "source": [
    "sum(data['estrato'])"
   ]
  },
  {
   "cell_type": "code",
   "execution_count": null,
   "metadata": {},
   "outputs": [],
   "source": [
    "estudiantes_2017_2019.dropna(inplace=True)\n",
    "fig = plt.figure(figsize=(12,12))\n",
    "ax1 = plt.subplot(1,1,1)\n",
    "sns.catplot(x=\"estu_horassemanatrabaja\", \n",
    "            y=\"punt_global\", \n",
    "            kind='box',\n",
    "            data=estudiantes_2017_2019.sort_values(by=\"estu_horassemanatrabaja\"),\n",
    "            #order=order,\n",
    "            ax=ax1)#hue=\"kind\"\n",
    "plt.show()"
   ]
  },
  {
   "cell_type": "code",
   "execution_count": null,
   "metadata": {},
   "outputs": [],
   "source": [
    "df = datos[0]\n",
    "pd.pivot_table(data =df[df.cole_calendario == 'B'][key+['punt_global']], index=key, aggfunc={'punt_global':'mean'}).reset_index()"
   ]
  },
  {
   "cell_type": "code",
   "execution_count": null,
   "metadata": {},
   "outputs": [],
   "source": [
    "estudiantes_2017_2019"
   ]
  },
  {
   "cell_type": "code",
   "execution_count": null,
   "metadata": {},
   "outputs": [],
   "source": [
    "saber11_20191[(saber11_20191['cole_nombre_sede'].str.contains(\"MARY\"))&(saber11_20191['cole_nombre_sede'].str.contains(\"MARY\"))][key+['cole_nombre_sede','punt_global']]"
   ]
  },
  {
   "cell_type": "code",
   "execution_count": null,
   "metadata": {},
   "outputs": [],
   "source": [
    "bus.sort_values(by=\"punt_global\")"
   ]
  },
  {
   "cell_type": "code",
   "execution_count": null,
   "metadata": {},
   "outputs": [],
   "source": []
  },
  {
   "cell_type": "code",
   "execution_count": null,
   "metadata": {},
   "outputs": [],
   "source": []
  },
  {
   "cell_type": "code",
   "execution_count": null,
   "metadata": {},
   "outputs": [],
   "source": []
  },
  {
   "cell_type": "code",
   "execution_count": null,
   "metadata": {},
   "outputs": [],
   "source": []
  },
  {
   "cell_type": "code",
   "execution_count": null,
   "metadata": {},
   "outputs": [],
   "source": []
  },
  {
   "cell_type": "code",
   "execution_count": null,
   "metadata": {},
   "outputs": [],
   "source": [
    "saber11_20191[saber11_20191['cole_nombre_sede'].str.contains(\"PORTALES\")]"
   ]
  },
  {
   "cell_type": "code",
   "execution_count": null,
   "metadata": {},
   "outputs": [],
   "source": [
    "variables = ['cole_nombre_sede',\n",
    "             'cole_nombre_establecimiento',\n",
    "             'cole_calendario',\n",
    "             'cole_bilingue',\n",
    "             'cole_area_ubicacion',\n",
    "             'cole_depto_ubicacion',\n",
    "             'fami_estratovivienda',\n",
    "             'punt_global',\n",
    "             'cole_naturaleza']\n",
    "\n",
    "filas = ['cole_nombre_sede']\n",
    "valores = ['punt_grlobal']"
   ]
  },
  {
   "cell_type": "code",
   "execution_count": null,
   "metadata": {},
   "outputs": [],
   "source": [
    "df = saber11_20192"
   ]
  },
  {
   "cell_type": "code",
   "execution_count": null,
   "metadata": {},
   "outputs": [],
   "source": [
    "temp = pd.pivot_table(data =df[df.cole_calendario == 'B'], index=filas, aggfunc={'punt_global':'mean'}).reset_index()"
   ]
  },
  {
   "cell_type": "code",
   "execution_count": null,
   "metadata": {},
   "outputs": [],
   "source": [
    "temp['AÑO'] = ['20192']*temp.shape[0]"
   ]
  },
  {
   "cell_type": "code",
   "execution_count": null,
   "metadata": {},
   "outputs": [],
   "source": [
    "saber112017 = temp"
   ]
  },
  {
   "cell_type": "code",
   "execution_count": null,
   "metadata": {},
   "outputs": [],
   "source": [
    "todo_2019 = pd.concat([saber112017,temp])"
   ]
  },
  {
   "cell_type": "code",
   "execution_count": null,
   "metadata": {},
   "outputs": [],
   "source": [
    "np.std"
   ]
  },
  {
   "cell_type": "code",
   "execution_count": null,
   "metadata": {},
   "outputs": [],
   "source": [
    "todo_2017.columns = [i.lower() for i in todo_2017.columns]\n",
    "todo_2018.columns = [i.lower() for i in todo_2018.columns]"
   ]
  },
  {
   "cell_type": "code",
   "execution_count": null,
   "metadata": {},
   "outputs": [],
   "source": [
    "todo_2017_a_2019 = pd.concat([todo_2017,todo_2018,todo_2019])"
   ]
  },
  {
   "cell_type": "code",
   "execution_count": null,
   "metadata": {},
   "outputs": [],
   "source": [
    "todo_2017_a_2019"
   ]
  },
  {
   "cell_type": "code",
   "execution_count": null,
   "metadata": {},
   "outputs": [],
   "source": []
  },
  {
   "cell_type": "code",
   "execution_count": null,
   "metadata": {},
   "outputs": [],
   "source": [
    "saber11_20191[saber11_20191['cole_nombre_sede'].str.contains(\"PORTALES\")]['cole_cod_dane_establecimiento'].drop_duplicates()"
   ]
  },
  {
   "cell_type": "code",
   "execution_count": null,
   "metadata": {},
   "outputs": [],
   "source": [
    "311001045160"
   ]
  },
  {
   "cell_type": "code",
   "execution_count": null,
   "metadata": {},
   "outputs": [],
   "source": [
    "info_minada_pasa = info_minda[info_minda.admi>=310].sort_values(by=['admi'],ascending=False)\n",
    "info_minada_pasa.reset_index(inplace=True)"
   ]
  },
  {
   "cell_type": "code",
   "execution_count": null,
   "metadata": {},
   "outputs": [],
   "source": [
    "resultados = pd.pivot_table(data =todo_2017_a_2019, index=['cole_nombre_sede'], aggfunc={'punt_global':'mean'}).reset_index()\n",
    "resultados.rename(columns={\"punt_global\": \"prom_punt_global\"},inplace=True)\n",
    "resultados1 = pd.pivot_table(data =todo_2017_a_2019, index=['cole_nombre_sede'], aggfunc={'punt_global':np.std}).reset_index()\n",
    "resultados1.rename(columns={\"punt_global\": \"sigma_punt_global\"},inplace=True)"
   ]
  },
  {
   "cell_type": "code",
   "execution_count": null,
   "metadata": {},
   "outputs": [],
   "source": [
    "info_minda = pd.concat([resultados,resultados1['sigma_punt_global']],axis=1)"
   ]
  },
  {
   "cell_type": "code",
   "execution_count": null,
   "metadata": {},
   "outputs": [],
   "source": [
    "info_minda['sigma_punt_global'].fillna(0,inplace=True)"
   ]
  },
  {
   "cell_type": "code",
   "execution_count": null,
   "metadata": {},
   "outputs": [],
   "source": [
    "info_minda['admi'] = info_minda['prom_punt_global']-1.25*info_minda['sigma_punt_global']"
   ]
  },
  {
   "cell_type": "code",
   "execution_count": null,
   "metadata": {},
   "outputs": [],
   "source": [
    "for i in info_minada_pasa.head(71).cole_nombre_sede:\n",
    "    print(i)"
   ]
  },
  {
   "cell_type": "code",
   "execution_count": null,
   "metadata": {},
   "outputs": [],
   "source": [
    "for i in a:\n",
    "    print(i)"
   ]
  },
  {
   "cell_type": "code",
   "execution_count": null,
   "metadata": {},
   "outputs": [],
   "source": [
    "resultados_saber111['AÑO'] = [2018]*resultados_saber111.shape[0]"
   ]
  },
  {
   "cell_type": "code",
   "execution_count": null,
   "metadata": {},
   "outputs": [],
   "source": [
    "saber_11_2018 = pd.concat([resultados_saber11, resultados_saber111])"
   ]
  },
  {
   "cell_type": "code",
   "execution_count": null,
   "metadata": {},
   "outputs": [],
   "source": [
    "saber_11_2018"
   ]
  },
  {
   "cell_type": "code",
   "execution_count": null,
   "metadata": {},
   "outputs": [],
   "source": [
    "saber_11_2017"
   ]
  },
  {
   "cell_type": "code",
   "execution_count": null,
   "metadata": {},
   "outputs": [],
   "source": [
    "colegios = pd.read_csv(r'C:\\Users\\Usuario\\Downloads\\colegios2.csv')"
   ]
  },
  {
   "cell_type": "code",
   "execution_count": null,
   "metadata": {},
   "outputs": [],
   "source": [
    "total[total.index==105]['COLEGIO']"
   ]
  },
  {
   "cell_type": "code",
   "execution_count": null,
   "metadata": {},
   "outputs": [],
   "source": [
    "total[total['COLEGIO'].str.contains(\"Andino\")]"
   ]
  },
  {
   "cell_type": "code",
   "execution_count": null,
   "metadata": {},
   "outputs": [],
   "source": [
    "top[top['COLEGIO'].str.contains(\"Marymount\")]"
   ]
  },
  {
   "cell_type": "code",
   "execution_count": null,
   "metadata": {},
   "outputs": [],
   "source": [
    "total = colegios.sort_values(by='PROMEDIO',ascending=False)"
   ]
  },
  {
   "cell_type": "code",
   "execution_count": null,
   "metadata": {},
   "outputs": [],
   "source": [
    "top = colegios[colegios.PROMEDIO >= 310].head(61)"
   ]
  },
  {
   "cell_type": "code",
   "execution_count": null,
   "metadata": {},
   "outputs": [],
   "source": [
    "top.DEPARTAMENTO.drop_duplicates()"
   ]
  },
  {
   "cell_type": "code",
   "execution_count": null,
   "metadata": {},
   "outputs": [],
   "source": [
    "import seaborn as sns\n",
    "import matplotlib.pyplot as plt\n",
    "\n",
    "plt.figure(figsize=(15,10))\n",
    "sns.countplot(top.DEPARTAMENTO)\n",
    "\n",
    "plt.show()"
   ]
  },
  {
   "cell_type": "code",
   "execution_count": null,
   "metadata": {},
   "outputs": [],
   "source": [
    "30/61"
   ]
  },
  {
   "cell_type": "code",
   "execution_count": null,
   "metadata": {},
   "outputs": [],
   "source": [
    "plt.figure(figsize=(15,10))\n",
    "sns.countplot(top.NATURALEZA)\n",
    "\n",
    "plt.show()"
   ]
  },
  {
   "cell_type": "code",
   "execution_count": null,
   "metadata": {},
   "outputs": [],
   "source": [
    "plt.figure(figsize=(15,10))\n",
    "sns.countplot(top.CALENDARIO)\n",
    "\n",
    "plt.show()"
   ]
  },
  {
   "cell_type": "code",
   "execution_count": null,
   "metadata": {},
   "outputs": [],
   "source": [
    "plt.figure(figsize=(15,10))\n",
    "sns.countplot(top.EVALUADOS)\n",
    "\n",
    "plt.show()"
   ]
  },
  {
   "cell_type": "code",
   "execution_count": null,
   "metadata": {},
   "outputs": [],
   "source": [
    "plt.figure(figsize=(15,10))\n",
    "sns.countplot(top.JORNADA)\n",
    "\n",
    "plt.show()"
   ]
  },
  {
   "cell_type": "code",
   "execution_count": null,
   "metadata": {},
   "outputs": [],
   "source": [
    "admitidos_uniandes = 2869\n",
    "egresados_top_61 = sum(top.EVALUADOS)"
   ]
  },
  {
   "cell_type": "code",
   "execution_count": null,
   "metadata": {},
   "outputs": [],
   "source": [
    "egresados_top_61/admitidos_uniandes"
   ]
  },
  {
   "cell_type": "code",
   "execution_count": null,
   "metadata": {},
   "outputs": [],
   "source": [
    "semestres = []\n",
    "last = '20161'\n",
    "for i in range(0,8):\n",
    "    print(i)\n",
    "    if(last[-1:]=='1'):\n",
    "        new = last[:-1]+'2'\n",
    "        print(new)\n",
    "        last = new\n",
    "        semestres.append(last)\n",
    "    else\n",
    "        print(last[3]) #= str(int(last[3:-1]) + 1)\n",
    "        "
   ]
  },
  {
   "cell_type": "code",
   "execution_count": null,
   "metadata": {},
   "outputs": [],
   "source": [
    "a = 'afas'"
   ]
  },
  {
   "cell_type": "code",
   "execution_count": null,
   "metadata": {},
   "outputs": [],
   "source": [
    "a[1]"
   ]
  },
  {
   "cell_type": "code",
   "execution_count": null,
   "metadata": {},
   "outputs": [],
   "source": [
    "d = {'Semestre': ['20161', '20162','20171','20172','20181','20182','20191','20192','20201'], \n",
    "     'Admitidos': [4214, 2662, 3453, 2829, 3800, 2936,  3962, 2869, 3962+400]}\n",
    "df = pd.DataFrame(data=d)"
   ]
  },
  {
   "cell_type": "code",
   "execution_count": null,
   "metadata": {},
   "outputs": [],
   "source": [
    "pd.concat([df,df],axis=1)"
   ]
  },
  {
   "cell_type": "code",
   "execution_count": null,
   "metadata": {},
   "outputs": [],
   "source": [
    "import numpy as np\n",
    "print(np.mean(df.Admitidos),np.median(df.Admitidos), np.std(df.Admitidos))"
   ]
  },
  {
   "cell_type": "code",
   "execution_count": null,
   "metadata": {},
   "outputs": [],
   "source": [
    "egresados_top_61/3454"
   ]
  },
  {
   "cell_type": "code",
   "execution_count": null,
   "metadata": {},
   "outputs": [],
   "source": [
    "top['PROMEDIO_ROUD'] = round(top.PROMEDIO)"
   ]
  },
  {
   "cell_type": "code",
   "execution_count": null,
   "metadata": {},
   "outputs": [],
   "source": [
    "plt.figure(figsize=(15,10))\n",
    "sns.distplot(top.PROMEDIO_ROUD)"
   ]
  },
  {
   "cell_type": "code",
   "execution_count": null,
   "metadata": {},
   "outputs": [],
   "source": []
  }
 ],
 "metadata": {
  "kernelspec": {
   "display_name": "Python 3",
   "language": "python",
   "name": "python3"
  },
  "language_info": {
   "codemirror_mode": {
    "name": "ipython",
    "version": 3
   },
   "file_extension": ".py",
   "mimetype": "text/x-python",
   "name": "python",
   "nbconvert_exporter": "python",
   "pygments_lexer": "ipython3",
   "version": "3.7.3"
  }
 },
 "nbformat": 4,
 "nbformat_minor": 2
}
